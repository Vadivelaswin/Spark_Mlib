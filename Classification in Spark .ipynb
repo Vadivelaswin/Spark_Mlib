{
 "cells": [
  {
   "cell_type": "markdown",
   "metadata": {},
   "source": [
    "# Classification Process in Spark"
   ]
  },
  {
   "cell_type": "code",
   "execution_count": 1,
   "metadata": {},
   "outputs": [],
   "source": [
    "#Import Modules and create spark Session\n",
    "\n",
    "from pyspark.sql.types import *\n",
    "from pyspark.sql.functions import *\n",
    "from pyspark.ml.classification import LogisticRegression\n",
    "from pyspark.ml.feature import VectorAssembler"
   ]
  },
  {
   "cell_type": "code",
   "execution_count": 2,
   "metadata": {},
   "outputs": [],
   "source": [
    "#Create Spark Session\n",
    "\n",
    "appName = 'Classification in Spark'\n",
    "spark = SparkSession.builder.appName(appName).config(\"spark.some.config.option\",\"some-value\").getOrCreate()"
   ]
  },
  {
   "cell_type": "code",
   "execution_count": 3,
   "metadata": {},
   "outputs": [],
   "source": [
    "#Define our Schema\n",
    "\n",
    "flightSchema = StructType([\n",
    "StructField(\"DayofMonth\",StringType(),False),\n",
    "StructField(\"DayofWeek\",StringType(),False),\n",
    "StructField(\"Carrier\",StringType(),False),\n",
    "StructField(\"OrginalAirportID\",StringType(),False),\n",
    "StructField(\"DestAirportID\",StringType(),False),\n",
    "StructField(\"DepDelay\",StringType(),False),\n",
    "StructField(\"ArrDelay\",StringType(),False)\n",
    "])\n"
   ]
  },
  {
   "cell_type": "code",
   "execution_count": 4,
   "metadata": {},
   "outputs": [],
   "source": [
    "#Read csv data with our defined schema\n",
    "flightData = spark.read.csv(\"dataset/flights.csv\",inferSchema=True,header=True)"
   ]
  },
  {
   "cell_type": "code",
   "execution_count": 5,
   "metadata": {},
   "outputs": [
    {
     "name": "stdout",
     "output_type": "stream",
     "text": [
      "+----------+---------+-------+---------------+-------------+--------+--------+\n",
      "|DayofMonth|DayOfWeek|Carrier|OriginAirportID|DestAirportID|DepDelay|ArrDelay|\n",
      "+----------+---------+-------+---------------+-------------+--------+--------+\n",
      "|        19|        5|     DL|          11433|        13303|      -3|       1|\n",
      "|        19|        5|     DL|          14869|        12478|       0|      -8|\n",
      "|        19|        5|     DL|          14057|        14869|      -4|     -15|\n",
      "|        19|        5|     DL|          15016|        11433|      28|      24|\n",
      "+----------+---------+-------+---------------+-------------+--------+--------+\n",
      "only showing top 4 rows\n",
      "\n"
     ]
    }
   ],
   "source": [
    "flightData.show(4)"
   ]
  },
  {
   "cell_type": "code",
   "execution_count": 6,
   "metadata": {},
   "outputs": [
    {
     "data": {
      "text/plain": [
       "DataFrame[summary: string, DayofMonth: string, DayOfWeek: string, Carrier: string, OriginAirportID: string, DestAirportID: string, DepDelay: string, ArrDelay: string]"
      ]
     },
     "execution_count": 6,
     "metadata": {},
     "output_type": "execute_result"
    }
   ],
   "source": [
    "flightData.describe()"
   ]
  },
  {
   "cell_type": "markdown",
   "metadata": {},
   "source": [
    "# Select important data for classification features and change arrival delay into binary class late vs not late. "
   ]
  },
  {
   "cell_type": "code",
   "execution_count": 7,
   "metadata": {},
   "outputs": [],
   "source": [
    "data = flightData.select(\"DayofMonth\",\"DayofWeek\",\"OriginAirportID\",\"DestAirportID\",\"DepDelay\",((col(\"ArrDelay\") > 15).cast(\"Int\").alias(\"Late\")))"
   ]
  },
  {
   "cell_type": "code",
   "execution_count": 8,
   "metadata": {},
   "outputs": [
    {
     "name": "stdout",
     "output_type": "stream",
     "text": [
      "+----------+---------+---------------+-------------+--------+----+\n",
      "|DayofMonth|DayofWeek|OriginAirportID|DestAirportID|DepDelay|Late|\n",
      "+----------+---------+---------------+-------------+--------+----+\n",
      "|        19|        5|          11433|        13303|      -3|   0|\n",
      "|        19|        5|          14869|        12478|       0|   0|\n",
      "|        19|        5|          14057|        14869|      -4|   0|\n",
      "+----------+---------+---------------+-------------+--------+----+\n",
      "only showing top 3 rows\n",
      "\n"
     ]
    }
   ],
   "source": [
    "data.show(3)"
   ]
  },
  {
   "cell_type": "markdown",
   "metadata": {},
   "source": [
    "# Divide data into training and testing data"
   ]
  },
  {
   "cell_type": "code",
   "execution_count": 9,
   "metadata": {},
   "outputs": [
    {
     "name": "stdout",
     "output_type": "stream",
     "text": [
      "Training data rows: 734105 ; Testing data rows: 314470\n"
     ]
    }
   ],
   "source": [
    "#divide data, 70% for training, 30% for testing\n",
    "\n",
    "dividedData = data.randomSplit([0.7,0.3])\n",
    "\n",
    "trainingData = dividedData[0] #index 0 = data training\n",
    "\n",
    "testingData = dividedData[1] #index 1 = data testing\n",
    "\n",
    "train_rows = trainingData.count()\n",
    "\n",
    "test_rows = testingData.count()\n",
    "\n",
    "print(\"Training data rows:\",train_rows,\"; Testing data rows:\",test_rows)\n"
   ]
  },
  {
   "cell_type": "markdown",
   "metadata": {},
   "source": [
    "# Prepare training data"
   ]
  },
  {
   "cell_type": "code",
   "execution_count": 10,
   "metadata": {},
   "outputs": [
    {
     "name": "stdout",
     "output_type": "stream",
     "text": [
      "+------------------------------+-----+\n",
      "|features                      |label|\n",
      "+------------------------------+-----+\n",
      "|[1.0,1.0,10140.0,10397.0,-4.0]|0    |\n",
      "|[1.0,1.0,10140.0,10821.0,8.0] |0    |\n",
      "+------------------------------+-----+\n",
      "only showing top 2 rows\n",
      "\n"
     ]
    }
   ],
   "source": [
    "assembler = VectorAssembler(inputCols = [\"DayofMonth\",\"DayofWeek\",\"OriginAirportID\",\"DestAirportID\",\"DepDelay\"], outputCol = \"features\")\n",
    "\n",
    "trainingDataFinal = assembler.transform(testingData).select(col(\"features\"),col(\"Late\").alias(\"label\"))\n",
    "\n",
    "trainingDataFinal.show(truncate=False,n=2)"
   ]
  },
  {
   "cell_type": "markdown",
   "metadata": {},
   "source": [
    "# Train our classifier model using training data"
   ]
  },
  {
   "cell_type": "code",
   "execution_count": 11,
   "metadata": {},
   "outputs": [],
   "source": [
    "#define our classifier\n",
    "classifier = LogisticRegression(labelCol = \"label\",featuresCol = \"features\",maxIter=10,regParam=0.3)"
   ]
  },
  {
   "cell_type": "code",
   "execution_count": 12,
   "metadata": {},
   "outputs": [
    {
     "name": "stdout",
     "output_type": "stream",
     "text": [
      "Classifier model is trained : LogisticRegressionModel: uid = LogisticRegression_e5b7a7371587, numClasses = 2, numFeatures = 5\n"
     ]
    }
   ],
   "source": [
    "#Train our classifier\n",
    "\n",
    "model = classifier.fit(trainingDataFinal)\n",
    "print(\"Classifier model is trained :\",model)"
   ]
  },
  {
   "cell_type": "code",
   "execution_count": 13,
   "metadata": {},
   "outputs": [
    {
     "name": "stdout",
     "output_type": "stream",
     "text": [
      "+--------------------+---------+\n",
      "|            features|trueLabel|\n",
      "+--------------------+---------+\n",
      "|[1.0,1.0,10140.0,...|        0|\n",
      "|[1.0,1.0,10140.0,...|        0|\n",
      "|[1.0,1.0,10140.0,...|        0|\n",
      "|[1.0,1.0,10140.0,...|        0|\n",
      "|[1.0,1.0,10140.0,...|        1|\n",
      "+--------------------+---------+\n",
      "only showing top 5 rows\n",
      "\n"
     ]
    }
   ],
   "source": [
    "#Prepare testing data\n",
    "\n",
    "testingDataFinal = assembler.transform(testingData).select(col(\"features\"),col(\"Late\").alias(\"trueLabel\"))\n",
    "\n",
    "testingDataFinal.show(5)\n"
   ]
  },
  {
   "cell_type": "markdown",
   "metadata": {},
   "source": [
    "# Predict the testing data using our trained model"
   ]
  },
  {
   "cell_type": "code",
   "execution_count": 14,
   "metadata": {},
   "outputs": [],
   "source": [
    "prediction = model.transform(testingDataFinal)\n",
    "\n",
    "predictionFinal = prediction.select(\"features\",\"prediction\",\"probability\",\"trueLabel\")\n"
   ]
  },
  {
   "cell_type": "code",
   "execution_count": 15,
   "metadata": {},
   "outputs": [
    {
     "name": "stdout",
     "output_type": "stream",
     "text": [
      "+------------------------------+----------+----------------------------------------+---------+\n",
      "|features                      |prediction|probability                             |trueLabel|\n",
      "+------------------------------+----------+----------------------------------------+---------+\n",
      "|[1.0,1.0,10140.0,10397.0,-4.0]|0.0       |[0.8273926479333787,0.17260735206662126]|0        |\n",
      "|[1.0,1.0,10140.0,10821.0,8.0] |0.0       |[0.8032489861204061,0.196751013879594]  |0        |\n",
      "|[1.0,1.0,10140.0,11259.0,0.0] |0.0       |[0.8200672801109562,0.17993271988904377]|0        |\n",
      "+------------------------------+----------+----------------------------------------+---------+\n",
      "only showing top 3 rows\n",
      "\n",
      "+------------------------------+---------+----------------------------------------+----------------------------------------+----------+\n",
      "|features                      |trueLabel|rawPrediction                           |probability                             |prediction|\n",
      "+------------------------------+---------+----------------------------------------+----------------------------------------+----------+\n",
      "|[1.0,1.0,10140.0,10397.0,-4.0]|0        |[1.567259994516486,-1.567259994516486]  |[0.8273926479333787,0.17260735206662126]|0.0       |\n",
      "|[1.0,1.0,10140.0,10821.0,8.0] |0        |[1.406725695352782,-1.406725695352782]  |[0.8032489861204061,0.196751013879594]  |0.0       |\n",
      "|[1.0,1.0,10140.0,11259.0,0.0] |0        |[1.5168033831848176,-1.5168033831848176]|[0.8200672801109562,0.17993271988904377]|0.0       |\n",
      "+------------------------------+---------+----------------------------------------+----------------------------------------+----------+\n",
      "only showing top 3 rows\n",
      "\n"
     ]
    }
   ],
   "source": [
    "predictionFinal.show(truncate=False,n=3)\n",
    "\n",
    "prediction.show(truncate=False,n=3)"
   ]
  },
  {
   "cell_type": "code",
   "execution_count": 16,
   "metadata": {},
   "outputs": [
    {
     "name": "stdout",
     "output_type": "stream",
     "text": [
      "correct prediction: 257107 ,total data: 314470 ,accuracy: 0.8175883232104811\n"
     ]
    }
   ],
   "source": [
    "#Calculate our model performance\n",
    "\n",
    "correctPrediction = predictionFinal.filter(predictionFinal['prediction'] == predictionFinal['trueLabel']).count()\n",
    "\n",
    "totalData = predictionFinal.count()\n",
    "\n",
    "print(\"correct prediction:\", correctPrediction,\",total data:\", totalData,\",accuracy:\", correctPrediction/totalData)"
   ]
  },
  {
   "cell_type": "markdown",
   "metadata": {},
   "source": [
    "# Try another classification algorithm provided by Spark"
   ]
  },
  {
   "cell_type": "code",
   "execution_count": 17,
   "metadata": {},
   "outputs": [],
   "source": [
    "from pyspark.ml.classification import RandomForestClassifier"
   ]
  },
  {
   "cell_type": "code",
   "execution_count": 18,
   "metadata": {},
   "outputs": [
    {
     "name": "stdout",
     "output_type": "stream",
     "text": [
      "Model is trained RandomForestClassificationModel (uid=RandomForestClassifier_d1ddad3057da) with 3 trees\n"
     ]
    }
   ],
   "source": [
    "model2 = RandomForestClassifier(numTrees=3, maxDepth=5, seed=42, labelCol=\"label\",featuresCol=\"features\")\n",
    "\n",
    "model2 = model2.fit(trainingDataFinal)\n",
    "\n",
    "print(\"Model is trained\",model2)"
   ]
  },
  {
   "cell_type": "code",
   "execution_count": 19,
   "metadata": {},
   "outputs": [
    {
     "name": "stdout",
     "output_type": "stream",
     "text": [
      "+------------------------------+----------+---------------------------------------+---------+\n",
      "|features                      |prediction|probability                            |trueLabel|\n",
      "+------------------------------+----------+---------------------------------------+---------+\n",
      "|[1.0,1.0,10140.0,10397.0,-4.0]|0.0       |[0.929469827751556,0.07053017224844393]|0        |\n",
      "|[1.0,1.0,10140.0,10821.0,8.0] |0.0       |[0.929469827751556,0.07053017224844393]|0        |\n",
      "|[1.0,1.0,10140.0,11259.0,0.0] |0.0       |[0.929469827751556,0.07053017224844393]|0        |\n",
      "+------------------------------+----------+---------------------------------------+---------+\n",
      "only showing top 3 rows\n",
      "\n"
     ]
    }
   ],
   "source": [
    "prediction = model2.transform(testingDataFinal)\n",
    "\n",
    "predictionFinal = prediction.select(\"features\",\"prediction\",\"probability\",\"trueLabel\")\n",
    "\n",
    "predictionFinal.show(truncate=False,n=3)\n",
    "\n",
    "correctPrediction = predictionFinal.filter(predictionFinal['prediction'] == predictionFinal['trueLabel']).count()\n",
    "\n",
    "totalData = predictionFinal.count()\n"
   ]
  },
  {
   "cell_type": "code",
   "execution_count": 20,
   "metadata": {},
   "outputs": [
    {
     "name": "stdout",
     "output_type": "stream",
     "text": [
      "correct prediction 290321 ,total data: 314470 ,accuracy 0.9232073011734029\n"
     ]
    }
   ],
   "source": [
    "print(\"correct prediction\",correctPrediction, \",total data:\", totalData, \",accuracy\", correctPrediction/totalData)"
   ]
  }
 ],
 "metadata": {
  "kernelspec": {
   "display_name": "Python 3",
   "language": "python",
   "name": "python3"
  },
  "language_info": {
   "codemirror_mode": {
    "name": "ipython",
    "version": 3
   },
   "file_extension": ".py",
   "mimetype": "text/x-python",
   "name": "python",
   "nbconvert_exporter": "python",
   "pygments_lexer": "ipython3",
   "version": "3.7.3"
  }
 },
 "nbformat": 4,
 "nbformat_minor": 2
}
