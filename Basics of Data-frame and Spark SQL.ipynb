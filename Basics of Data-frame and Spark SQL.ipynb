{
 "cells": [
  {
   "cell_type": "markdown",
   "metadata": {},
   "source": [
    "# Introduction of DataFrame and Spark SQL\n"
   ]
  },
  {
   "cell_type": "markdown",
   "metadata": {},
   "source": [
    "##### Reading the file from DataFrame "
   ]
  },
  {
   "cell_type": "code",
   "execution_count": 1,
   "metadata": {},
   "outputs": [],
   "source": [
    "#Import the modules\n",
    "\n",
    "from pyspark.sql import SparkSession\n",
    "from pyspark.sql.types import *"
   ]
  },
  {
   "cell_type": "code",
   "execution_count": 2,
   "metadata": {},
   "outputs": [],
   "source": [
    "#Create session in order to be capable of accessing the all Spark API\n",
    "spark = SparkSession.builder.appName('Basics of Spark Dataframe').config('spark.some.config.value','some-value').getOrCreate()"
   ]
  },
  {
   "cell_type": "code",
   "execution_count": 3,
   "metadata": {},
   "outputs": [],
   "source": [
    "#Define data schema for file we want to read\n",
    "PurchaseSchema = StructType ([\n",
    "    StructField(\"Date\",DateType(),True),\n",
    "    StructField(\"Time\",StringType(),True),\n",
    "    StructField(\"City\",StringType(),True),\n",
    "    StructField(\"Item\",StringType(),True),\n",
    "    StructField(\"Total_Amount\",FloatType(),True),\n",
    "    StructField(\"Payment\",StringType(),True),\n",
    "    ])\n"
   ]
  },
  {
   "cell_type": "code",
   "execution_count": 4,
   "metadata": {},
   "outputs": [
    {
     "name": "stdout",
     "output_type": "stream",
     "text": [
      "+----------+-----+----------+-------------------+------------+----------+\n",
      "|      Date| Time|      City|               Item|Total_Amount|   Payment|\n",
      "+----------+-----+----------+-------------------+------------+----------+\n",
      "|2012-01-01|09:00|  San Jose|     Men's Clothing|      214.05|      Amex|\n",
      "|2012-01-01|09:00|Fort Worth|   Women's Clothing|      153.57|      Visa|\n",
      "|2012-01-01|09:00| San Diego|              Music|       66.08|      Cash|\n",
      "|2012-01-01|09:00|Pittsburgh|       Pet Supplies|      493.51|  Discover|\n",
      "|2012-01-01|09:00|     Omaha|Children's Clothing|      235.63|MasterCard|\n",
      "+----------+-----+----------+-------------------+------------+----------+\n",
      "only showing top 5 rows\n",
      "\n"
     ]
    }
   ],
   "source": [
    "#Read csv file with our defined schema into spark dataframe, and use 'TAB' as delimiter\n",
    "PurchaseDataFrame = spark.read.csv(\"dataset/purchases.csv\",header=True,schema=PurchaseSchema,sep='\\t')\n",
    "\n",
    "#Display 3 rows of Dataframe\n",
    "PurchaseDataFrame.show(5)"
   ]
  },
  {
   "cell_type": "code",
   "execution_count": 5,
   "metadata": {},
   "outputs": [
    {
     "name": "stdout",
     "output_type": "stream",
     "text": [
      "Number of rows: 4138476\n"
     ]
    }
   ],
   "source": [
    "#Count no.of rows and print the dataframe schema and print statistics of input data\n",
    "\n",
    "num_rows = PurchaseDataFrame.count()\n",
    "print ('Number of rows:', num_rows)"
   ]
  },
  {
   "cell_type": "code",
   "execution_count": 6,
   "metadata": {},
   "outputs": [
    {
     "name": "stdout",
     "output_type": "stream",
     "text": [
      "+-------+------------------+\n",
      "|summary|      Total_Amount|\n",
      "+-------+------------------+\n",
      "|  count|           4138476|\n",
      "|   mean|249.96108549398525|\n",
      "| stddev| 144.3174111542959|\n",
      "|    min|               0.0|\n",
      "|    max|            499.99|\n",
      "+-------+------------------+\n",
      "\n"
     ]
    }
   ],
   "source": [
    "#Display the statistics of particular column data \n",
    "PurchaseDataFrame.describe('Total_Amount').show()"
   ]
  },
  {
   "cell_type": "code",
   "execution_count": 7,
   "metadata": {},
   "outputs": [
    {
     "name": "stdout",
     "output_type": "stream",
     "text": [
      "root\n",
      " |-- Date: date (nullable = true)\n",
      " |-- Time: string (nullable = true)\n",
      " |-- City: string (nullable = true)\n",
      " |-- Item: string (nullable = true)\n",
      " |-- Total_Amount: float (nullable = true)\n",
      " |-- Payment: string (nullable = true)\n",
      "\n"
     ]
    }
   ],
   "source": [
    "#Display the dataframe schema\n",
    "PurchaseDataFrame.printSchema()"
   ]
  },
  {
   "cell_type": "markdown",
   "metadata": {},
   "source": [
    "# Creating a new dataframe from an existing dataframe"
   ]
  },
  {
   "cell_type": "code",
   "execution_count": 8,
   "metadata": {},
   "outputs": [
    {
     "name": "stdout",
     "output_type": "stream",
     "text": [
      "+----------+------------+\n",
      "|      City|Total_Amount|\n",
      "+----------+------------+\n",
      "|  San Jose|      214.05|\n",
      "|Fort Worth|      153.57|\n",
      "| San Diego|       66.08|\n",
      "+----------+------------+\n",
      "only showing top 3 rows\n",
      "\n"
     ]
    }
   ],
   "source": [
    "#Create new dataframe for two colums\n",
    "newDataFrame = PurchaseDataFrame.select(PurchaseDataFrame['City'],PurchaseDataFrame['Total_Amount'])\n",
    "\n",
    "newDataFrame.show(3)\n"
   ]
  },
  {
   "cell_type": "code",
   "execution_count": 9,
   "metadata": {},
   "outputs": [
    {
     "name": "stdout",
     "output_type": "stream",
     "text": [
      "root\n",
      " |-- City: string (nullable = true)\n",
      " |-- Total_Amount: float (nullable = true)\n",
      "\n"
     ]
    }
   ],
   "source": [
    "newDataFrame.printSchema()"
   ]
  },
  {
   "cell_type": "code",
   "execution_count": 10,
   "metadata": {},
   "outputs": [
    {
     "name": "stdout",
     "output_type": "stream",
     "text": [
      "+----------+-------------------+\n",
      "|      City|(Total_Amount + 30)|\n",
      "+----------+-------------------+\n",
      "|  San Jose|             244.05|\n",
      "|Fort Worth|             183.57|\n",
      "| San Diego|              96.08|\n",
      "+----------+-------------------+\n",
      "only showing top 3 rows\n",
      "\n"
     ]
    }
   ],
   "source": [
    "#Adding an constant value to particular column\n",
    "\n",
    "PurchaseDataFrame.select(PurchaseDataFrame['City'],PurchaseDataFrame['Total_Amount']+30).show(3)"
   ]
  },
  {
   "cell_type": "code",
   "execution_count": 11,
   "metadata": {},
   "outputs": [
    {
     "name": "stdout",
     "output_type": "stream",
     "text": [
      "+----------+-----+----------+-------------------+------------+----------+\n",
      "|      Date| Time|      City|               Item|Total_Amount|   Payment|\n",
      "+----------+-----+----------+-------------------+------------+----------+\n",
      "|2012-01-01|09:00|  San Jose|     Men's Clothing|      214.05|      Amex|\n",
      "|2012-01-01|09:00|Pittsburgh|       Pet Supplies|      493.51|  Discover|\n",
      "|2012-01-01|09:00|     Omaha|Children's Clothing|      235.63|MasterCard|\n",
      "|2012-01-01|09:00|  Stockton|     Men's Clothing|      247.18|MasterCard|\n",
      "|2012-01-01|09:00|    Austin|            Cameras|       379.6|      Visa|\n",
      "+----------+-----+----------+-------------------+------------+----------+\n",
      "only showing top 5 rows\n",
      "\n"
     ]
    }
   ],
   "source": [
    "#Filter the dataframe using defined condition\n",
    "\n",
    "PurchaseDataFrame.filter(PurchaseDataFrame['Total_Amount'] > 200).show(5)\n"
   ]
  },
  {
   "cell_type": "code",
   "execution_count": 12,
   "metadata": {},
   "outputs": [
    {
     "name": "stdout",
     "output_type": "stream",
     "text": [
      "+----------+-----+-----------+----------------+------------+----------+\n",
      "|      Date| Time|       City|            Item|Total_Amount|   Payment|\n",
      "+----------+-----+-----------+----------------+------------+----------+\n",
      "|2012-10-07|11:11|Albuquerque|    Pet Supplies|       308.7|      Visa|\n",
      "|2012-10-07|11:41|Albuquerque|           Music|      365.64|      Visa|\n",
      "|2012-10-07|11:13|Albuquerque|Women's Clothing|      419.49|  Discover|\n",
      "|2012-10-07|10:39|Albuquerque|    Pet Supplies|       401.3|MasterCard|\n",
      "|2012-10-07|11:18|Albuquerque|          Crafts|      475.77|      Visa|\n",
      "+----------+-----+-----------+----------------+------------+----------+\n",
      "only showing top 5 rows\n",
      "\n"
     ]
    }
   ],
   "source": [
    "#Sorting DataFrame by certain column:\n",
    "sortByCity = PurchaseDataFrame.orderBy('City').show(5)"
   ]
  },
  {
   "cell_type": "code",
   "execution_count": 13,
   "metadata": {},
   "outputs": [
    {
     "name": "stdout",
     "output_type": "stream",
     "text": [
      "+---------------+-----+\n",
      "|           City|count|\n",
      "+---------------+-----+\n",
      "|North Las Vegas|40013|\n",
      "|        Phoenix|40333|\n",
      "|          Omaha|40209|\n",
      "|      Anchorage|39806|\n",
      "|        Anaheim|40086|\n",
      "+---------------+-----+\n",
      "only showing top 5 rows\n",
      "\n"
     ]
    }
   ],
   "source": [
    "#Calculating number of txn in each city\n",
    "numtxneachCity = PurchaseDataFrame.groupBy('City').count()\n",
    "numtxneachCity.show(5)"
   ]
  },
  {
   "cell_type": "markdown",
   "metadata": {},
   "source": [
    "# Indexing and Accessing DataFrame"
   ]
  },
  {
   "cell_type": "markdown",
   "metadata": {},
   "source": [
    "Spark dataframe is distributed into clusters we cant access it by ROW,COLUMNS as in pandas dataframe for  example. There is an alternative wat to do that by creating new column with 'incremental ID'. Then we can access by row using .filter() function to the incremental ID column."
   ]
  },
  {
   "cell_type": "code",
   "execution_count": 14,
   "metadata": {},
   "outputs": [],
   "source": [
    "#import monotonically_increasing_id\n",
    "\n",
    "from pyspark.sql.functions import monotonically_increasing_id"
   ]
  },
  {
   "cell_type": "code",
   "execution_count": 15,
   "metadata": {},
   "outputs": [],
   "source": [
    "newPurchaseDataFrame = PurchaseDataFrame.withColumn(\"Index\",monotonically_increasing_id())"
   ]
  },
  {
   "cell_type": "code",
   "execution_count": 16,
   "metadata": {},
   "outputs": [
    {
     "name": "stdout",
     "output_type": "stream",
     "text": [
      "+----------+-----+----------+-------------------+------------+----------+-----+\n",
      "|      Date| Time|      City|               Item|Total_Amount|   Payment|Index|\n",
      "+----------+-----+----------+-------------------+------------+----------+-----+\n",
      "|2012-01-01|09:00|  San Jose|     Men's Clothing|      214.05|      Amex|    0|\n",
      "|2012-01-01|09:00|Fort Worth|   Women's Clothing|      153.57|      Visa|    1|\n",
      "|2012-01-01|09:00| San Diego|              Music|       66.08|      Cash|    2|\n",
      "|2012-01-01|09:00|Pittsburgh|       Pet Supplies|      493.51|  Discover|    3|\n",
      "|2012-01-01|09:00|     Omaha|Children's Clothing|      235.63|MasterCard|    4|\n",
      "+----------+-----+----------+-------------------+------------+----------+-----+\n",
      "only showing top 5 rows\n",
      "\n"
     ]
    }
   ],
   "source": [
    "newPurchaseDataFrame.show(5)"
   ]
  },
  {
   "cell_type": "code",
   "execution_count": 17,
   "metadata": {},
   "outputs": [
    {
     "name": "stdout",
     "output_type": "stream",
     "text": [
      "+----------+-----+----------+-------------------+------------+----------+-----+\n",
      "|      Date| Time|      City|               Item|Total_Amount|   Payment|Index|\n",
      "+----------+-----+----------+-------------------+------------+----------+-----+\n",
      "|2012-01-01|09:00| San Diego|              Music|       66.08|      Cash|    2|\n",
      "|2012-01-01|09:00|Pittsburgh|       Pet Supplies|      493.51|  Discover|    3|\n",
      "|2012-01-01|09:00|     Omaha|Children's Clothing|      235.63|MasterCard|    4|\n",
      "+----------+-----+----------+-------------------+------------+----------+-----+\n",
      "\n"
     ]
    }
   ],
   "source": [
    "row2To4 = newPurchaseDataFrame.filter((newPurchaseDataFrame['index']>=2) & (newPurchaseDataFrame['index']<=4))\n",
    "row2To4.show()"
   ]
  },
  {
   "cell_type": "markdown",
   "metadata": {},
   "source": [
    "*to access it by row and columns use .select() function*"
   ]
  },
  {
   "cell_type": "code",
   "execution_count": 18,
   "metadata": {},
   "outputs": [
    {
     "name": "stdout",
     "output_type": "stream",
     "text": [
      "+------------+\n",
      "|Total_Amount|\n",
      "+------------+\n",
      "|       66.08|\n",
      "+------------+\n",
      "\n"
     ]
    }
   ],
   "source": [
    "dataRow2ColumnTotal_Amount = newPurchaseDataFrame.filter(newPurchaseDataFrame['index'] ==2).select(\"Total_Amount\").show()"
   ]
  },
  {
   "cell_type": "markdown",
   "metadata": {},
   "source": [
    "# Using SQL query in DataFrame"
   ]
  },
  {
   "cell_type": "markdown",
   "metadata": {},
   "source": [
    "Creating a new dataframe from the subset from existing dataframe\n"
   ]
  },
  {
   "cell_type": "code",
   "execution_count": 19,
   "metadata": {},
   "outputs": [],
   "source": [
    "#We need to make SQL temp view for our dataframe\n",
    "\n",
    "PurchaseDataFrame.createOrReplaceTempView(\"PurchaseSQL\")"
   ]
  },
  {
   "cell_type": "code",
   "execution_count": 20,
   "metadata": {},
   "outputs": [
    {
     "name": "stdout",
     "output_type": "stream",
     "text": [
      "+------------+----------+----------+\n",
      "|Total_Amount|   Payment|      City|\n",
      "+------------+----------+----------+\n",
      "|      214.05|      Amex|  San Jose|\n",
      "|      153.57|      Visa|Fort Worth|\n",
      "|       66.08|      Cash| San Diego|\n",
      "|      493.51|  Discover|Pittsburgh|\n",
      "|      235.63|MasterCard|     Omaha|\n",
      "+------------+----------+----------+\n",
      "only showing top 5 rows\n",
      "\n"
     ]
    }
   ],
   "source": [
    "#select Total_Amount and Payment columns from SQL temp view\n",
    "\n",
    "anotherDataFrame = spark.sql(\"Select Total_Amount,Payment,City from purchaseSQL\")\n",
    "\n",
    "anotherDataFrame.show(5)"
   ]
  },
  {
   "cell_type": "markdown",
   "metadata": {},
   "source": [
    "# Sorting data by certain columns"
   ]
  },
  {
   "cell_type": "code",
   "execution_count": 21,
   "metadata": {},
   "outputs": [
    {
     "name": "stdout",
     "output_type": "stream",
     "text": [
      "+----------+-----+-----------+----------------+------------+----------+\n",
      "|      Date| Time|       City|            Item|Total_Amount|   Payment|\n",
      "+----------+-----+-----------+----------------+------------+----------+\n",
      "|2012-10-07|11:11|Albuquerque|    Pet Supplies|       308.7|      Visa|\n",
      "|2012-10-07|11:41|Albuquerque|           Music|      365.64|      Visa|\n",
      "|2012-10-07|11:13|Albuquerque|Women's Clothing|      419.49|  Discover|\n",
      "|2012-10-07|10:39|Albuquerque|    Pet Supplies|       401.3|MasterCard|\n",
      "|2012-10-07|11:18|Albuquerque|          Crafts|      475.77|      Visa|\n",
      "+----------+-----+-----------+----------------+------------+----------+\n",
      "only showing top 5 rows\n",
      "\n"
     ]
    }
   ],
   "source": [
    "# sorting data by City column\n",
    "orderByCity = spark.sql(\"select * from purchaseSQL order by City\")\n",
    "\n",
    "orderByCity.show(5)\n"
   ]
  },
  {
   "cell_type": "code",
   "execution_count": 22,
   "metadata": {},
   "outputs": [
    {
     "name": "stdout",
     "output_type": "stream",
     "text": [
      "+----------+-----+-----------+-----------------+------------+----------+\n",
      "|      Date| Time|       City|             Item|Total_Amount|   Payment|\n",
      "+----------+-----+-----------+-----------------+------------+----------+\n",
      "|2012-10-07|11:18|Albuquerque|           Crafts|      475.77|      Visa|\n",
      "|2012-10-07|11:54|Albuquerque|Health and Beauty|       480.4|MasterCard|\n",
      "|2012-10-07|11:40|Albuquerque|             Toys|      299.63|MasterCard|\n",
      "|2012-10-07|10:42|Albuquerque|   Sporting Goods|      351.13|      Cash|\n",
      "|2012-10-07|11:41|Albuquerque|            Music|      365.64|      Visa|\n",
      "+----------+-----+-----------+-----------------+------------+----------+\n",
      "only showing top 5 rows\n",
      "\n"
     ]
    }
   ],
   "source": [
    "#SQL with Where conditions\n",
    "\n",
    "filterAndSortWithSQL = spark.sql(\"select * from purchaseSQL where Total_Amount > 200 order by city\")\n",
    "\n",
    "filterAndSortWithSQL.show(5)"
   ]
  }
 ],
 "metadata": {
  "kernelspec": {
   "display_name": "Python 3",
   "language": "python",
   "name": "python3"
  },
  "language_info": {
   "codemirror_mode": {
    "name": "ipython",
    "version": 3
   },
   "file_extension": ".py",
   "mimetype": "text/x-python",
   "name": "python",
   "nbconvert_exporter": "python",
   "pygments_lexer": "ipython3",
   "version": "3.7.3"
  }
 },
 "nbformat": 4,
 "nbformat_minor": 2
}
