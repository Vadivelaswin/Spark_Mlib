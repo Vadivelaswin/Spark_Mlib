{
 "cells": [
  {
   "cell_type": "markdown",
   "metadata": {},
   "source": [
    "# Data Pre Processing and Cleaning"
   ]
  },
  {
   "cell_type": "code",
   "execution_count": 1,
   "metadata": {},
   "outputs": [],
   "source": [
    "from pyspark.sql.types import *"
   ]
  },
  {
   "cell_type": "code",
   "execution_count": 2,
   "metadata": {},
   "outputs": [],
   "source": [
    "#create spark session\n",
    "spark = SparkSession.builder.appName('Data Preprocessing and Cleaning').config('spark.some.config.option','some-value').getOrCreate()"
   ]
  },
  {
   "cell_type": "code",
   "execution_count": 3,
   "metadata": {},
   "outputs": [],
   "source": [
    "#Create Schema\n",
    "flightSchema = StructType([\n",
    "StructField(\"DayofMonth\",IntegerType(),False),\n",
    "StructField(\"DayofWeek\",IntegerType(),False),\n",
    "StructField(\"Carrier\",StringType(),False),\n",
    "StructField(\"OrginAirportID\",IntegerType(),False),\n",
    "StructField(\"DestinationAirportID\",IntegerType(),False),\n",
    "StructField(\"DepDelay\",IntegerType(),False),\n",
    "StructField(\"ArrivalDelay\",IntegerType(),False),\n",
    "])\n"
   ]
  },
  {
   "cell_type": "code",
   "execution_count": 4,
   "metadata": {},
   "outputs": [
    {
     "name": "stdout",
     "output_type": "stream",
     "text": [
      "+----------+---------+-------+--------------+--------------------+--------+------------+\n",
      "|DayofMonth|DayofWeek|Carrier|OrginAirportID|DestinationAirportID|DepDelay|ArrivalDelay|\n",
      "+----------+---------+-------+--------------+--------------------+--------+------------+\n",
      "|        19|        5|     DL|         11433|               13303|      -3|           1|\n",
      "|        19|        5|     DL|         14869|               12478|       0|          -8|\n",
      "|        19|        5|     DL|         14057|               14869|      -4|         -15|\n",
      "+----------+---------+-------+--------------+--------------------+--------+------------+\n",
      "only showing top 3 rows\n",
      "\n"
     ]
    }
   ],
   "source": [
    "#Load the data and check the resut of DF\n",
    "\n",
    "flights = spark.read.csv(\"dataset/raw-flight-data.csv\",schema=flightSchema,header=True)\n",
    "flights.show(3)"
   ]
  },
  {
   "cell_type": "code",
   "execution_count": 5,
   "metadata": {},
   "outputs": [],
   "source": [
    "#Create the airport schema\n",
    "\n",
    "airportSchema = StructType([\n",
    "StructField(\"airport_id\",IntegerType(),False),\n",
    "StructField(\"city\",StringType(),False),\n",
    "StructField(\"state\",StringType(),False),\n",
    "StructField(\"name\",StringType(),False)\n",
    "])\n"
   ]
  },
  {
   "cell_type": "code",
   "execution_count": 6,
   "metadata": {},
   "outputs": [
    {
     "name": "stdout",
     "output_type": "stream",
     "text": [
      "+----------+-----------+-----+--------------------+\n",
      "|airport_id|       city|state|                name|\n",
      "+----------+-----------+-----+--------------------+\n",
      "|     10165|Adak Island|   AK|                Adak|\n",
      "|     10299|  Anchorage|   AK|Ted Stevens Ancho...|\n",
      "|     10304|      Aniak|   AK|       Aniak Airport|\n",
      "|     10754|     Barrow|   AK|Wiley Post/Will R...|\n",
      "|     10551|     Bethel|   AK|      Bethel Airport|\n",
      "+----------+-----------+-----+--------------------+\n",
      "only showing top 5 rows\n",
      "\n"
     ]
    }
   ],
   "source": [
    "#load the data and the display the result\n",
    "\n",
    "airports = spark.read.csv(\"dataset/airports.csv\",header=True,inferSchema=True)\n",
    "airports.show(5)\n"
   ]
  },
  {
   "cell_type": "code",
   "execution_count": 7,
   "metadata": {},
   "outputs": [
    {
     "name": "stdout",
     "output_type": "stream",
     "text": [
      "+--------------+-----+\n",
      "|          City|count|\n",
      "+--------------+-----+\n",
      "|       Phoenix|13590|\n",
      "|         Omaha| 2689|\n",
      "|Raleigh/Durham| 5404|\n",
      "|     Anchorage|  821|\n",
      "|        Dallas| 3051|\n",
      "+--------------+-----+\n",
      "only showing top 5 rows\n",
      "\n"
     ]
    }
   ],
   "source": [
    "#Merge two dataframe (flight & Airport) and show how many flights from each city\n",
    "\n",
    "flightByOrgin = flights.join(airports,flights.OrginAirportID == airports.airport_id).groupBy(\"City\").count()\n",
    "\n",
    "flightByOrgin.show(5)\n"
   ]
  },
  {
   "cell_type": "markdown",
   "metadata": {},
   "source": [
    "# Handle Duplicated Data\n",
    "### Drop duplicated data and calculate duplicate data count"
   ]
  },
  {
   "cell_type": "code",
   "execution_count": 8,
   "metadata": {},
   "outputs": [
    {
     "name": "stdout",
     "output_type": "stream",
     "text": [
      "Number of original data rows : 487214\n",
      "Number of data after deleting duplicate data : 483190\n",
      "Number of Duplicate data:  4024\n"
     ]
    }
   ],
   "source": [
    "#Count the number of original data rows\n",
    "\n",
    "n1 = flights.count()\n",
    "\n",
    "print(\"Number of original data rows :\",n1)\n",
    "\n",
    "#count the number of data rows after deleting duplicate data\n",
    "\n",
    "n2 = flights.dropDuplicates().count()\n",
    "\n",
    "print(\"Number of data after deleting duplicate data :\",n2)\n",
    "\n",
    "n3 = n1-n2\n",
    "\n",
    "print(\"Number of Duplicate data: \", n3)"
   ]
  },
  {
   "cell_type": "markdown",
   "metadata": {},
   "source": [
    "# Handle missing Data                                                                                      \n"
   ]
  },
  {
   "cell_type": "code",
   "execution_count": 9,
   "metadata": {},
   "outputs": [
    {
     "name": "stdout",
     "output_type": "stream",
     "text": [
      "Number of missing value rows : 9104\n"
     ]
    }
   ],
   "source": [
    "#Delete row if there at least one column missing data\n",
    "#use how = \"all\" for all columns missing\n",
    "\n",
    "flightNoMissingValue = flights.dropDuplicates().dropna(how='any',subset=[\"ArrivalDelay\",\"DepDelay\"]) \n",
    "\n",
    "numberOfMissingValueAny = n1 -flightNoMissingValue.count()\n",
    "\n",
    "print(\"Number of missing value rows :\",numberOfMissingValueAny)\n",
    "\n"
   ]
  },
  {
   "cell_type": "markdown",
   "metadata": {},
   "source": [
    "# Fill the missing data using mean value of each corresponding column data"
   ]
  },
  {
   "cell_type": "code",
   "execution_count": 10,
   "metadata": {},
   "outputs": [
    {
     "name": "stdout",
     "output_type": "stream",
     "text": [
      "Mean Arrival Delay 6.958720463349381\n",
      "Mean of Depart Delay 10.67275056035863\n"
     ]
    }
   ],
   "source": [
    "#Take Mean Value\n",
    "\n",
    "meanArrDelay = flights.groupBy().avg(\"ArrivalDelay\").take(1)[0][0]\n",
    "\n",
    "print (\"Mean Arrival Delay\",meanArrDelay)\n",
    "\n",
    "meanDepDelay = flights.groupBy().avg(\"DepDelay\").take(1)[0][0]\n",
    "\n",
    "print(\"Mean of Depart Delay\",meanDepDelay)\n"
   ]
  },
  {
   "cell_type": "code",
   "execution_count": 11,
   "metadata": {},
   "outputs": [
    {
     "name": "stdout",
     "output_type": "stream",
     "text": [
      "+-----------------+\n",
      "|avg(ArrivalDelay)|\n",
      "+-----------------+\n",
      "|6.958720463349381|\n",
      "+-----------------+\n",
      "\n"
     ]
    }
   ],
   "source": [
    "#Drop duplicated data and fill missing data with mean value\n",
    "\n",
    "flightsCleanData = flights.fillna({'ArrivalDelay':meanArrDelay,'DepDelay':meanDepDelay})\n",
    "\n",
    "#test result\n",
    "\n",
    "flights.groupBy().avg(\"ArrivalDelay\").show()"
   ]
  },
  {
   "cell_type": "code",
   "execution_count": 12,
   "metadata": {},
   "outputs": [
    {
     "name": "stdout",
     "output_type": "stream",
     "text": [
      "+-------+------------------+------------------+\n",
      "|summary|      ArrivalDelay|          DepDelay|\n",
      "+-------+------------------+------------------+\n",
      "|  count|            487214|            487214|\n",
      "|   mean| 6.945851309691429|10.664090112353094|\n",
      "| stddev|40.460616776738185| 37.70614537992643|\n",
      "|    min|               -75|               -60|\n",
      "|    max|              1440|              1425|\n",
      "+-------+------------------+------------------+\n",
      "\n"
     ]
    }
   ],
   "source": [
    "#Explore the statistics of the data\n",
    "\n",
    "flightsCleanData.describe('ArrivalDelay','DepDelay').show()\n"
   ]
  },
  {
   "cell_type": "code",
   "execution_count": 13,
   "metadata": {},
   "outputs": [
    {
     "name": "stdout",
     "output_type": "stream",
     "text": [
      "Correlation between Depart Delay and arrival delay:  0.9417700257369398\n"
     ]
    }
   ],
   "source": [
    "#Finding the correlation between two variables to know wheather the variable is related each other or not\n",
    "\n",
    "correlationData = flightsCleanData.corr('ArrivalDelay','DepDelay' )\n",
    "\n",
    "print('Correlation between Depart Delay and arrival delay: ',correlationData)"
   ]
  }
 ],
 "metadata": {
  "kernelspec": {
   "display_name": "Python 3",
   "language": "python",
   "name": "python3"
  },
  "language_info": {
   "codemirror_mode": {
    "name": "ipython",
    "version": 3
   },
   "file_extension": ".py",
   "mimetype": "text/x-python",
   "name": "python",
   "nbconvert_exporter": "python",
   "pygments_lexer": "ipython3",
   "version": "3.7.3"
  }
 },
 "nbformat": 4,
 "nbformat_minor": 2
}
