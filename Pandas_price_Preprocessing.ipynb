{
 "cells": [
  {
   "cell_type": "markdown",
   "metadata": {},
   "source": [
    "# House Value prediction by Pandas"
   ]
  },
  {
   "cell_type": "code",
   "execution_count": 1,
   "metadata": {},
   "outputs": [],
   "source": [
    "#import the Pandas\n",
    "\n",
    "import pandas as pd"
   ]
  },
  {
   "cell_type": "code",
   "execution_count": 2,
   "metadata": {},
   "outputs": [
    {
     "name": "stdout",
     "output_type": "stream",
     "text": [
      "C:\\Users\\user\n"
     ]
    }
   ],
   "source": [
    "import os\n",
    "di = os.getcwd()\n",
    "print(di)"
   ]
  },
  {
   "cell_type": "code",
   "execution_count": 3,
   "metadata": {},
   "outputs": [],
   "source": [
    "# data can be downloaded from the url: https://www.kaggle.com/vikrishnan/boston-house-prices \n",
    "df = pd.read_csv('dataset/house_prediction.csv')"
   ]
  },
  {
   "cell_type": "code",
   "execution_count": null,
   "metadata": {},
   "outputs": [],
   "source": [
    "# Understanding data\n",
    "print (df.shape)\n",
    "print (df.columns)\n",
    "print(df.head(5))\n",
    "print(df.info())\n",
    "print(df.describe())\n",
    "print(df.groupby('LotShape').size())"
   ]
  },
  {
   "cell_type": "code",
   "execution_count": 4,
   "metadata": {},
   "outputs": [
    {
     "name": "stdout",
     "output_type": "stream",
     "text": [
      "Id                  0\n",
      "MSSubClass          0\n",
      "MSZoning            0\n",
      "LotFrontage       259\n",
      "LotArea             0\n",
      "Street              0\n",
      "Alley            1369\n",
      "LotShape            0\n",
      "LandContour         0\n",
      "Utilities           0\n",
      "LotConfig           0\n",
      "LandSlope           0\n",
      "Neighborhood        0\n",
      "Condition1          0\n",
      "Condition2          0\n",
      "BldgType            0\n",
      "HouseStyle          0\n",
      "OverallQual         0\n",
      "OverallCond         0\n",
      "YearBuilt           0\n",
      "YearRemodAdd        0\n",
      "RoofStyle           0\n",
      "RoofMatl            0\n",
      "Exterior1st         0\n",
      "Exterior2nd         0\n",
      "MasVnrType          8\n",
      "MasVnrArea          8\n",
      "ExterQual           0\n",
      "ExterCond           0\n",
      "Foundation          0\n",
      "                 ... \n",
      "BedroomAbvGr        0\n",
      "KitchenAbvGr        0\n",
      "KitchenQual         0\n",
      "TotRmsAbvGrd        0\n",
      "Functional          0\n",
      "Fireplaces          0\n",
      "FireplaceQu       690\n",
      "GarageType         81\n",
      "GarageYrBlt        81\n",
      "GarageFinish       81\n",
      "GarageCars          0\n",
      "GarageArea          0\n",
      "GarageQual         81\n",
      "GarageCond         81\n",
      "PavedDrive          0\n",
      "WoodDeckSF          0\n",
      "OpenPorchSF         0\n",
      "EnclosedPorch       0\n",
      "3SsnPorch           0\n",
      "ScreenPorch         0\n",
      "PoolArea            0\n",
      "PoolQC           1453\n",
      "Fence            1179\n",
      "MiscFeature      1406\n",
      "MiscVal             0\n",
      "MoSold              0\n",
      "YrSold              0\n",
      "SaleType            0\n",
      "SaleCondition       0\n",
      "SalePrice           0\n",
      "Length: 81, dtype: int64\n",
      "LotFrontage      259\n",
      "Alley           1369\n",
      "MasVnrType         8\n",
      "MasVnrArea         8\n",
      "BsmtQual          37\n",
      "BsmtCond          37\n",
      "BsmtExposure      38\n",
      "BsmtFinType1      37\n",
      "BsmtFinType2      38\n",
      "FireplaceQu      690\n",
      "GarageType        81\n",
      "GarageYrBlt       81\n",
      "GarageFinish      81\n",
      "GarageQual        81\n",
      "GarageCond        81\n",
      "PoolQC          1453\n",
      "Fence           1179\n",
      "MiscFeature     1406\n",
      "dtype: int64\n",
      "(1460, 63)\n"
     ]
    }
   ],
   "source": [
    "# Dropping null value columns which cross the threshold\n",
    "a = df.isnull().sum()\n",
    "print (a)\n",
    "b =  a[a>(0.05*len(a))]\n",
    "print (b)\n",
    "df = df.drop(b.index, axis=1)\n",
    "print (df.shape)"
   ]
  },
  {
   "cell_type": "code",
   "execution_count": 5,
   "metadata": {},
   "outputs": [
    {
     "name": "stdout",
     "output_type": "stream",
     "text": [
      "MSZoning         0\n",
      "Street           0\n",
      "LotShape         0\n",
      "LandContour      0\n",
      "Utilities        0\n",
      "LotConfig        0\n",
      "LandSlope        0\n",
      "Neighborhood     0\n",
      "Condition1       0\n",
      "Condition2       0\n",
      "BldgType         0\n",
      "HouseStyle       0\n",
      "RoofStyle        0\n",
      "RoofMatl         0\n",
      "Exterior1st      0\n",
      "Exterior2nd      0\n",
      "ExterQual        0\n",
      "ExterCond        0\n",
      "Foundation       0\n",
      "Heating          0\n",
      "HeatingQC        0\n",
      "CentralAir       0\n",
      "Electrical       1\n",
      "KitchenQual      0\n",
      "Functional       0\n",
      "PavedDrive       0\n",
      "SaleType         0\n",
      "SaleCondition    0\n",
      "dtype: int64\n",
      "Index(['MSZoning', 'Street', 'LotShape', 'LandContour', 'Utilities',\n",
      "       'LotConfig', 'LandSlope', 'Neighborhood', 'Condition1', 'Condition2',\n",
      "       'BldgType', 'HouseStyle', 'RoofStyle', 'RoofMatl', 'Exterior1st',\n",
      "       'Exterior2nd', 'ExterQual', 'ExterCond', 'Foundation', 'Heating',\n",
      "       'HeatingQC', 'CentralAir', 'Electrical', 'KitchenQual', 'Functional',\n",
      "       'PavedDrive', 'SaleType', 'SaleCondition'],\n",
      "      dtype='object')\n",
      "['RL', 'RM', 'FV', 'RH', 'C (all)']\n",
      "['Pave', 'Grvl']\n",
      "['Reg', 'IR1', 'IR2', 'IR3']\n",
      "['Lvl', 'Bnk', 'HLS', 'Low']\n",
      "['AllPub', 'NoSeWa']\n",
      "['Inside', 'Corner', 'CulDSac', 'FR2', 'FR3']\n",
      "['Gtl', 'Mod', 'Sev']\n",
      "['NAmes', 'CollgCr', 'OldTown', 'Edwards', 'Somerst', 'Gilbert', 'NridgHt', 'Sawyer', 'NWAmes', 'SawyerW', 'BrkSide', 'Crawfor', 'Mitchel', 'NoRidge', 'Timber', 'IDOTRR', 'ClearCr', 'SWISU', 'StoneBr', 'MeadowV', 'Blmngtn', 'BrDale', 'Veenker', 'NPkVill', 'Blueste']\n",
      "['Norm', 'Feedr', 'Artery', 'RRAn', 'PosN', 'RRAe', 'PosA', 'RRNn', 'RRNe']\n",
      "['Norm', 'Feedr', 'Artery', 'PosN', 'RRNn', 'RRAe', 'PosA', 'RRAn']\n",
      "['1Fam', 'TwnhsE', 'Duplex', 'Twnhs', '2fmCon']\n",
      "['1Story', '2Story', '1.5Fin', 'SLvl', 'SFoyer', '1.5Unf', '2.5Unf', '2.5Fin']\n",
      "['Gable', 'Hip', 'Flat', 'Gambrel', 'Mansard', 'Shed']\n",
      "['CompShg', 'Tar&Grv', 'WdShngl', 'WdShake', 'Membran', 'Roll', 'Metal', 'ClyTile']\n",
      "['VinylSd', 'HdBoard', 'MetalSd', 'Wd Sdng', 'Plywood', 'CemntBd', 'BrkFace', 'WdShing', 'Stucco', 'AsbShng', 'Stone', 'BrkComm', 'AsphShn', 'ImStucc', 'CBlock']\n",
      "['VinylSd', 'MetalSd', 'HdBoard', 'Wd Sdng', 'Plywood', 'CmentBd', 'Wd Shng', 'Stucco', 'BrkFace', 'AsbShng', 'ImStucc', 'Brk Cmn', 'Stone', 'AsphShn', 'Other', 'CBlock']\n",
      "['TA', 'Gd', 'Ex', 'Fa']\n",
      "['TA', 'Gd', 'Fa', 'Ex', 'Po']\n",
      "['PConc', 'CBlock', 'BrkTil', 'Slab', 'Stone', 'Wood']\n",
      "['GasA', 'GasW', 'Grav', 'Wall', 'OthW', 'Floor']\n",
      "['Ex', 'TA', 'Gd', 'Fa', 'Po']\n",
      "['Y', 'N']\n",
      "['SBrkr', 'FuseA', 'FuseF', 'FuseP', 'Mix']\n",
      "['TA', 'Gd', 'Ex', 'Fa']\n",
      "['Typ', 'Min2', 'Min1', 'Mod', 'Maj1', 'Maj2', 'Sev']\n",
      "['Y', 'N', 'P']\n",
      "['WD', 'New', 'COD', 'ConLD', 'ConLw', 'ConLI', 'CWD', 'Oth', 'Con']\n",
      "['Normal', 'Partial', 'Abnorml', 'Family', 'Alloca', 'AdjLand']\n"
     ]
    }
   ],
   "source": [
    "# Replacing null value columns (text) with most used value\n",
    "a1 = df.select_dtypes(include=['object']).isnull().sum()\n",
    "print (a1)\n",
    "print (a1.index)\n",
    "for i in a1.index:\n",
    "    b1 = df[i].value_counts().index.tolist()\n",
    "    print (b1)\n",
    "    df[i] = df[i].fillna(b1[0])"
   ]
  },
  {
   "cell_type": "code",
   "execution_count": 6,
   "metadata": {},
   "outputs": [
    {
     "name": "stdout",
     "output_type": "stream",
     "text": [
      "Id               0\n",
      "MSSubClass       0\n",
      "LotArea          0\n",
      "OverallQual      0\n",
      "OverallCond      0\n",
      "YearBuilt        0\n",
      "YearRemodAdd     0\n",
      "BsmtFinSF1       0\n",
      "BsmtFinSF2       0\n",
      "BsmtUnfSF        0\n",
      "TotalBsmtSF      0\n",
      "1stFlrSF         0\n",
      "2ndFlrSF         0\n",
      "LowQualFinSF     0\n",
      "GrLivArea        0\n",
      "BsmtFullBath     0\n",
      "BsmtHalfBath     0\n",
      "FullBath         0\n",
      "HalfBath         0\n",
      "BedroomAbvGr     0\n",
      "KitchenAbvGr     0\n",
      "TotRmsAbvGrd     0\n",
      "Fireplaces       0\n",
      "GarageCars       0\n",
      "GarageArea       0\n",
      "WoodDeckSF       0\n",
      "OpenPorchSF      0\n",
      "EnclosedPorch    0\n",
      "3SsnPorch        0\n",
      "ScreenPorch      0\n",
      "PoolArea         0\n",
      "MiscVal          0\n",
      "MoSold           0\n",
      "YrSold           0\n",
      "SalePrice        0\n",
      "dtype: int64\n",
      "Index([], dtype='object')\n"
     ]
    }
   ],
   "source": [
    "# Replacing null value columns (int, float) with most used value\n",
    "\n",
    "a2 = df.select_dtypes(include=['integer','float']).isnull().sum()\n",
    "print (a2)\n",
    "b2 = a2[a2!=0].index \n",
    "print (b2)\n",
    "#df = df.fillna(df[b2].mode().to_dict(orient='records')[0])"
   ]
  },
  {
   "cell_type": "code",
   "execution_count": 7,
   "metadata": {},
   "outputs": [
    {
     "name": "stdout",
     "output_type": "stream",
     "text": [
      "(1460, 63)\n",
      "(1460, 65)\n"
     ]
    }
   ],
   "source": [
    "# Creating new columns from existing columns\n",
    "print (df.shape)\n",
    "a3 = df['YrSold'] - df['YearBuilt']\n",
    "b3 = df['YrSold'] - df['YearRemodAdd']\n",
    "df['Years Before Sale'] = a3\n",
    "df['Years Since Remod'] = b3\n",
    "print (df.shape)"
   ]
  },
  {
   "cell_type": "code",
   "execution_count": null,
   "metadata": {},
   "outputs": [],
   "source": [
    "print (df.columns)"
   ]
  },
  {
   "cell_type": "code",
   "execution_count": 9,
   "metadata": {},
   "outputs": [
    {
     "name": "stdout",
     "output_type": "stream",
     "text": [
      "(1460, 59)\n"
     ]
    }
   ],
   "source": [
    "# Dropping unwanted columns\n",
    "df = df.drop([\"Id\", \"MoSold\", \"SaleCondition\", \"SaleType\", \"YearBuilt\", \"YearRemodAdd\"], axis=1) \n",
    "print (df.shape)"
   ]
  },
  {
   "cell_type": "code",
   "execution_count": 10,
   "metadata": {},
   "outputs": [
    {
     "name": "stdout",
     "output_type": "stream",
     "text": [
      "MSSubClass           0.084284\n",
      "LotArea              0.263843\n",
      "OverallQual          0.790982\n",
      "OverallCond          0.077856\n",
      "BsmtFinSF1           0.386420\n",
      "BsmtFinSF2           0.011378\n",
      "BsmtUnfSF            0.214479\n",
      "TotalBsmtSF          0.613581\n",
      "1stFlrSF             0.605852\n",
      "2ndFlrSF             0.319334\n",
      "LowQualFinSF         0.025606\n",
      "GrLivArea            0.708624\n",
      "BsmtFullBath         0.227122\n",
      "BsmtHalfBath         0.016844\n",
      "FullBath             0.560664\n",
      "HalfBath             0.284108\n",
      "BedroomAbvGr         0.168213\n",
      "KitchenAbvGr         0.135907\n",
      "TotRmsAbvGrd         0.533723\n",
      "Fireplaces           0.466929\n",
      "GarageCars           0.640409\n",
      "GarageArea           0.623431\n",
      "WoodDeckSF           0.324413\n",
      "OpenPorchSF          0.315856\n",
      "EnclosedPorch        0.128578\n",
      "3SsnPorch            0.044584\n",
      "ScreenPorch          0.111447\n",
      "PoolArea             0.092404\n",
      "MiscVal              0.021190\n",
      "YrSold               0.028923\n",
      "SalePrice            1.000000\n",
      "Years Before Sale    0.523350\n",
      "Years Since Remod    0.509079\n",
      "Name: SalePrice, dtype: float64\n",
      "(1460, 38)\n"
     ]
    }
   ],
   "source": [
    "# Dropping columns which has correlation with target less than threshold\n",
    "target='SalePrice'\n",
    "x = df.select_dtypes(include=['integer','float']).corr()[target].abs()\n",
    "print (x)  \n",
    "df=df.drop(x[x<0.4].index, axis=1)\n",
    "print (df.shape)"
   ]
  },
  {
   "cell_type": "code",
   "execution_count": 12,
   "metadata": {},
   "outputs": [
    {
     "name": "stdout",
     "output_type": "stream",
     "text": [
      "Index(['MSZoning', 'LotShape', 'LandContour', 'Utilities', 'LotConfig',\n",
      "       'LandSlope', 'Condition1', 'Condition2', 'BldgType', 'HouseStyle',\n",
      "       'OverallQual', 'RoofStyle', 'RoofMatl', 'Exterior1st', 'Exterior2nd',\n",
      "       'ExterQual', 'ExterCond', 'TotalBsmtSF', 'HeatingQC', 'CentralAir',\n",
      "       'Electrical', '1stFlrSF', 'GrLivArea', 'FullBath', 'KitchenQual',\n",
      "       'TotRmsAbvGrd', 'Functional', 'Fireplaces', 'GarageCars', 'GarageArea',\n",
      "       'PavedDrive', 'SalePrice', 'Years Before Sale', 'Years Since Remod'],\n",
      "      dtype='object')\n"
     ]
    }
   ],
   "source": [
    "# Checking for the necessary features after dropping some columns\n",
    "l1 = [\"PID\",\"MS SubClass\",\"MS Zoning\",\"Street\",\"Alley\",\"Land Contour\",\"Lot Config\",\"Neighborhood\",\"Condition 1\",\"Condition 2\",\"Bldg Type\",\"House Style\",\"Roof Style\",\"Roof Matl\",\"Exterior 1st\",\"Exterior 2nd\",\"Mas Vnr Type\",\"Foundation\",\"Heating\",\"Central Air\",\"Garage Type\",\"Misc Feature\",\"Sale Type\",\"Sale Condition\"]\n",
    "l2 = []\n",
    "for i in l1:\n",
    "    if i in df.columns:\n",
    "        l2.append(i)\n",
    "       \n",
    "# Getting rid of nominal columns with too many unique values\n",
    "for i in l2:\n",
    "    len(df[i].unique())>10\n",
    "    df=df.drop(i, axis=1)\n",
    "print (df.columns)\n",
    "\n",
    "df.to_csv('pandas_output.csv',index=False)"
   ]
  },
  {
   "cell_type": "code",
   "execution_count": null,
   "metadata": {},
   "outputs": [],
   "source": []
  }
 ],
 "metadata": {
  "kernelspec": {
   "display_name": "Python 3",
   "language": "python",
   "name": "python3"
  },
  "language_info": {
   "codemirror_mode": {
    "name": "ipython",
    "version": 3
   },
   "file_extension": ".py",
   "mimetype": "text/x-python",
   "name": "python",
   "nbconvert_exporter": "python",
   "pygments_lexer": "ipython3",
   "version": "3.7.3"
  }
 },
 "nbformat": 4,
 "nbformat_minor": 2
}
