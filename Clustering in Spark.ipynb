{
 "cells": [
  {
   "cell_type": "markdown",
   "metadata": {},
   "source": [
    "# Clustering in Spark"
   ]
  },
  {
   "cell_type": "code",
   "execution_count": 1,
   "metadata": {},
   "outputs": [],
   "source": [
    "#import modules\n",
    "\n",
    "from pyspark.ml.clustering import KMeans\n",
    "from pyspark.ml.feature import VectorAssembler\n",
    "from pyspark.sql.types import *\n",
    "from pyspark.sql.functions import *\n",
    "from pyspark.ml.regression import LinearRegression"
   ]
  },
  {
   "cell_type": "code",
   "execution_count": 2,
   "metadata": {},
   "outputs": [],
   "source": [
    "#Create Spark Session\n",
    "\n",
    "appName = \"Clusterig in Spark\"\n",
    "spark = SparkSession.builder.appName(\"appName\").config(\"spark.some.config.option\",\"some-value\").getOrCreate()"
   ]
  },
  {
   "cell_type": "code",
   "execution_count": 3,
   "metadata": {},
   "outputs": [
    {
     "name": "stdout",
     "output_type": "stream",
     "text": [
      "+---------------+---+-------------+-----------+------+-------------+--------------+---------+----------+---------+----+\n",
      "|   CustomerName|Age|MaritalStatus|IncomeRange|Gender|TotalChildren|ChildrenAtHome|Education|Occupation|HomeOwner|Cars|\n",
      "+---------------+---+-------------+-----------+------+-------------+--------------+---------+----------+---------+----+\n",
      "|    Aaron Adams| 42|            0|      50000|     0|            0|             0|        3|         2|        1|   1|\n",
      "|Aaron Alexander| 40|            1|      50000|     0|            0|             0|        2|         2|        1|   2|\n",
      "|    Aaron Allen| 63|            0|      25000|     0|            2|             1|        2|         1|        1|   2|\n",
      "+---------------+---+-------------+-----------+------+-------------+--------------+---------+----------+---------+----+\n",
      "only showing top 3 rows\n",
      "\n"
     ]
    }
   ],
   "source": [
    "#Load the data\n",
    "\n",
    "customers = spark.read.csv(\"dataset/customers.csv\",inferSchema=True,header=True)\n",
    "customers.show(3)"
   ]
  },
  {
   "cell_type": "markdown",
   "metadata": {},
   "source": [
    "# Prepare the data"
   ]
  },
  {
   "cell_type": "code",
   "execution_count": 4,
   "metadata": {},
   "outputs": [
    {
     "name": "stdout",
     "output_type": "stream",
     "text": [
      "+---------------+------------------------------------------+\n",
      "|CustomerName   |features                                  |\n",
      "+---------------+------------------------------------------+\n",
      "|Aaron Adams    |[42.0,0.0,50000.0,0.0,0.0,0.0,3.0,1.0,1.0]|\n",
      "|Aaron Alexander|[40.0,1.0,50000.0,0.0,0.0,0.0,2.0,1.0,2.0]|\n",
      "|Aaron Allen    |[63.0,0.0,25000.0,0.0,2.0,1.0,2.0,1.0,2.0]|\n",
      "|Aaron Baker    |[56.0,1.0,50000.0,0.0,4.0,2.0,2.0,1.0,2.0]|\n",
      "|Aaron Bryant   |[72.0,0.0,75000.0,0.0,4.0,0.0,4.0,1.0,2.0]|\n",
      "+---------------+------------------------------------------+\n",
      "only showing top 5 rows\n",
      "\n"
     ]
    }
   ],
   "source": [
    "#Define Assembler\n",
    "\n",
    "assembler = VectorAssembler(inputCols = [\"Age\",\"MaritalStatus\",\"IncomeRange\",\"Gender\",\"TotalChildren\",\"ChildrenAtHome\",\"Education\",\"HomeOwner\",\"Cars\"],outputCol =\"features\")\n",
    "\n",
    "data = assembler.transform(customers).select(\"CustomerName\",\"features\")\n",
    "\n",
    "data.show(truncate=False,n=5)\n"
   ]
  },
  {
   "cell_type": "code",
   "execution_count": 5,
   "metadata": {},
   "outputs": [
    {
     "name": "stdout",
     "output_type": "stream",
     "text": [
      "Model is successfully trained\n"
     ]
    }
   ],
   "source": [
    "#define kmeans clustering model\n",
    "\n",
    "kmeans = KMeans(featuresCol = assembler.getOutputCol(),predictionCol = \"cluster\" , k=5)\n",
    "model = kmeans.fit(data)\n",
    "print (\"Model is successfully trained\")\n"
   ]
  },
  {
   "cell_type": "markdown",
   "metadata": {},
   "source": [
    "\n",
    "# Print centroid for each cluster"
   ]
  },
  {
   "cell_type": "code",
   "execution_count": 6,
   "metadata": {},
   "outputs": [
    {
     "name": "stdout",
     "output_type": "stream",
     "text": [
      "Cluster centers: \n",
      "[5.60711289e+01 5.83804487e-01 7.50000000e+04 5.03921211e-01\n",
      " 2.17308043e+00 8.16706183e-01 3.73244574e+00 7.23326646e-01\n",
      " 1.38063104e+00]\n",
      "[5.31013005e+01 4.17180014e-01 2.50000000e+04 4.80492813e-01\n",
      " 1.41512663e+00 6.08487337e-01 2.31622177e+00 5.93086927e-01\n",
      " 1.11464750e+00]\n",
      "[5.53417813e+01 5.72411296e-01 1.00000000e+05 4.97103548e-01\n",
      " 2.54380883e+00 1.54272266e+00 3.46198407e+00 7.16509776e-01\n",
      " 1.94532947e+00]\n",
      "[5.82794840e+01 6.22850123e-01 1.50000000e+05 4.79729730e-01\n",
      " 2.07248157e+00 3.20638821e+00 3.41461916e+00 6.48648649e-01\n",
      " 3.10995086e+00]\n",
      "[5.19737441e+01 5.26868545e-01 5.00000000e+04 4.93961141e-01\n",
      " 1.34552774e+00 4.98337126e-01 3.23035183e+00 6.62699107e-01\n",
      " 1.14615789e+00]\n"
     ]
    }
   ],
   "source": [
    "#find centriod\n",
    "centers = model.clusterCenters()\n",
    "print(\"Cluster centers: \")\n",
    "for center in centers:\n",
    "        print(center)"
   ]
  },
  {
   "cell_type": "markdown",
   "metadata": {},
   "source": [
    "# Cluster the Data"
   ]
  },
  {
   "cell_type": "code",
   "execution_count": 7,
   "metadata": {},
   "outputs": [
    {
     "name": "stdout",
     "output_type": "stream",
     "text": [
      "+-------+-----+\n",
      "|cluster|count|\n",
      "+-------+-----+\n",
      "|      0| 5483|\n",
      "|      1| 2922|\n",
      "|      2| 2762|\n",
      "|      3| 1628|\n",
      "|      4| 5713|\n",
      "+-------+-----+\n",
      "\n",
      "+---------------+-------+\n",
      "|   CustomerName|cluster|\n",
      "+---------------+-------+\n",
      "|    Aaron Adams|      4|\n",
      "|Aaron Alexander|      4|\n",
      "|    Aaron Allen|      1|\n",
      "|    Aaron Baker|      4|\n",
      "+---------------+-------+\n",
      "only showing top 4 rows\n",
      "\n"
     ]
    }
   ],
   "source": [
    "#Clustering\n",
    "\n",
    "prediction = model.transform(data) #cluster given data\n",
    "prediction.groupBy(\"cluster\").count().orderBy(\"cluster\").show() #count menbers in each cluster\n",
    "prediction.select(\"CustomerName\", \"cluster\").show(4) #show several clustered data"
   ]
  }
 ],
 "metadata": {
  "kernelspec": {
   "display_name": "Python 3",
   "language": "python",
   "name": "python3"
  },
  "language_info": {
   "codemirror_mode": {
    "name": "ipython",
    "version": 3
   },
   "file_extension": ".py",
   "mimetype": "text/x-python",
   "name": "python",
   "nbconvert_exporter": "python",
   "pygments_lexer": "ipython3",
   "version": "3.7.3"
  }
 },
 "nbformat": 4,
 "nbformat_minor": 2
}
