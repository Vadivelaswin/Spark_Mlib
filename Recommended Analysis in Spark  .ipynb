{
 "cells": [
  {
   "cell_type": "markdown",
   "metadata": {},
   "source": [
    "# Import modules and create Spark Session"
   ]
  },
  {
   "cell_type": "code",
   "execution_count": 2,
   "metadata": {},
   "outputs": [],
   "source": [
    "#import modules\n",
    "from pyspark.ml.recommendation import ALS"
   ]
  },
  {
   "cell_type": "code",
   "execution_count": 3,
   "metadata": {},
   "outputs": [],
   "source": [
    "#Create Session\n",
    "\n",
    "appName = \"Recommender System in Spark\"\n",
    "spark = SparkSession.builder.appName('appName').getOrCreate()"
   ]
  },
  {
   "cell_type": "markdown",
   "metadata": {},
   "source": [
    "# Read file into DataFrame"
   ]
  },
  {
   "cell_type": "code",
   "execution_count": 5,
   "metadata": {},
   "outputs": [
    {
     "name": "stdout",
     "output_type": "stream",
     "text": [
      "+-------+------+------+----------+--------------------+--------------------+\n",
      "|movieId|userId|rating| timestamp|               title|              genres|\n",
      "+-------+------+------+----------+--------------------+--------------------+\n",
      "|     31|     1|   2.5|1260759144|Dangerous Minds (...|               Drama|\n",
      "|   1029|     1|   3.0|1260759179|        Dumbo (1941)|Animation|Childre...|\n",
      "|   1061|     1|   3.0|1260759182|     Sleepers (1996)|            Thriller|\n",
      "+-------+------+------+----------+--------------------+--------------------+\n",
      "only showing top 3 rows\n",
      "\n"
     ]
    }
   ],
   "source": [
    "#read file into dataFrame using automatically inferred schema\n",
    "ratings = spark.read.csv('dataset/ratings.csv', inferSchema=True, header=True)\n",
    "movies = spark.read.csv('dataset/movies.csv', inferSchema=True, header=True)\n",
    "#merge \"movies\" and \"ratings\" dataFrame based on \"movieId\"\n",
    "ratings.join(movies, \"movieId\").show(3)"
   ]
  },
  {
   "cell_type": "code",
   "execution_count": null,
   "metadata": {},
   "outputs": [],
   "source": [
    "# Join movies and ratings dataframe based on common column\n",
    "ratings.join(movies,\"movieId\").show(5)"
   ]
  },
  {
   "cell_type": "markdown",
   "metadata": {},
   "source": [
    "# Data Preparation"
   ]
  },
  {
   "cell_type": "code",
   "execution_count": 9,
   "metadata": {},
   "outputs": [],
   "source": [
    "#use only column data of \"userId\", \"movieId\", dan \"rating\"\n",
    "data = ratings.select(\"userId\", \"movieId\", \"rating\")\n",
    "#divide data, 70% for training and 30% for testing\n",
    "splits = data.randomSplit([0.7, 0.3])\n",
    "train = splits[0].withColumnRenamed(\"rating\", \"label\")\n",
    "test = splits[1].withColumnRenamed(\"rating\", \"trueLabel\")"
   ]
  },
  {
   "cell_type": "code",
   "execution_count": 10,
   "metadata": {},
   "outputs": [
    {
     "name": "stdout",
     "output_type": "stream",
     "text": [
      "number of training data rows: 70151 , number of testing data rows: 29853\n"
     ]
    }
   ],
   "source": [
    "#calculate number of rows\n",
    "train_rows = train.count()\n",
    "test_rows = test.count()\n",
    "print (\"number of training data rows:\", train_rows, \n",
    "       \", number of testing data rows:\", test_rows)"
   ]
  },
  {
   "cell_type": "markdown",
   "metadata": {},
   "source": [
    "# Define model and train it"
   ]
  },
  {
   "cell_type": "code",
   "execution_count": 12,
   "metadata": {},
   "outputs": [
    {
     "name": "stdout",
     "output_type": "stream",
     "text": [
      "Training is done!\n"
     ]
    }
   ],
   "source": [
    "#define ALS (Alternating Least Square) as our recommender system\n",
    "als = ALS(maxIter=19, regParam=0.01, userCol=\"userId\", \n",
    "          itemCol=\"movieId\", ratingCol=\"label\")\n",
    "#train our ALS model\n",
    "model = als.fit(train)\n",
    "print(\"Training is done!\")"
   ]
  },
  {
   "cell_type": "code",
   "execution_count": 13,
   "metadata": {},
   "outputs": [
    {
     "name": "stdout",
     "output_type": "stream",
     "text": [
      "testing is done!\n"
     ]
    }
   ],
   "source": [
    "#Predict testing data\n",
    "prediction = model.transform(test)\n",
    "print(\"testing is done!\")"
   ]
  },
  {
   "cell_type": "code",
   "execution_count": 14,
   "metadata": {},
   "outputs": [
    {
     "name": "stdout",
     "output_type": "stream",
     "text": [
      "+------+---------------------------+----------+---------+\n",
      "|userId|title                      |prediction|trueLabel|\n",
      "+------+---------------------------+----------+---------+\n",
      "|232   |Guilty as Sin (1993)       |3.0934198 |4.0      |\n",
      "|242   |Guilty as Sin (1993)       |3.46531   |4.0      |\n",
      "|311   |Guilty as Sin (1993)       |3.1228745 |3.0      |\n",
      "|548   |Hudsucker Proxy, The (1994)|3.423729  |4.0      |\n",
      "|285   |Hudsucker Proxy, The (1994)|3.7966106 |5.0      |\n",
      "|440   |Hudsucker Proxy, The (1994)|2.7109172 |3.0      |\n",
      "|306   |Hudsucker Proxy, The (1994)|2.8805468 |3.0      |\n",
      "|537   |Hudsucker Proxy, The (1994)|3.692778  |5.0      |\n",
      "|380   |Hudsucker Proxy, The (1994)|4.1300335 |4.0      |\n",
      "|624   |Hudsucker Proxy, The (1994)|3.8224726 |4.0      |\n",
      "+------+---------------------------+----------+---------+\n",
      "only showing top 10 rows\n",
      "\n"
     ]
    }
   ],
   "source": [
    "prediction.join(movies, \"movieId\").select(\"userId\", \"title\", \"prediction\", \"trueLabel\").show(n=10, truncate=False)"
   ]
  },
  {
   "cell_type": "markdown",
   "metadata": {},
   "source": [
    "# Evaluate the accuracy of our model"
   ]
  },
  {
   "cell_type": "code",
   "execution_count": 15,
   "metadata": {},
   "outputs": [
    {
     "name": "stdout",
     "output_type": "stream",
     "text": [
      "Root Mean Square Error (RMSE): nan\n"
     ]
    }
   ],
   "source": [
    "#import RegressionEvaluator since we also want to calculate RMSE (Root Mean Square Error)\n",
    "from pyspark.ml.evaluation import RegressionEvaluator\n",
    "\n",
    "evaluator = RegressionEvaluator(\n",
    "    labelCol=\"trueLabel\", predictionCol=\"prediction\", metricName=\"rmse\")\n",
    "rmse = evaluator.evaluate(prediction)\n",
    "print (\"Root Mean Square Error (RMSE):\", rmse)"
   ]
  },
  {
   "cell_type": "code",
   "execution_count": 16,
   "metadata": {},
   "outputs": [
    {
     "name": "stdout",
     "output_type": "stream",
     "text": [
      "number of original data rows:  29853\n",
      "number of rows after dropping data with missing value:  28650\n",
      "number of missing data:  1203\n"
     ]
    }
   ],
   "source": [
    "prediction.count()\n",
    "a = prediction.count()\n",
    "print(\"number of original data rows: \", a)\n",
    "#drop rows with any missing data\n",
    "cleanPred = prediction.dropna(how=\"any\", subset=[\"prediction\"])\n",
    "b = cleanPred.count()\n",
    "print(\"number of rows after dropping data with missing value: \", b)\n",
    "print(\"number of missing data: \", a-b)"
   ]
  },
  {
   "cell_type": "code",
   "execution_count": 17,
   "metadata": {},
   "outputs": [
    {
     "name": "stdout",
     "output_type": "stream",
     "text": [
      "Root Mean Square Error (RMSE): 1.238084156532729\n"
     ]
    }
   ],
   "source": [
    "rmse = evaluator.evaluate(cleanPred)\n",
    "print (\"Root Mean Square Error (RMSE):\", rmse)"
   ]
  },
  {
   "cell_type": "code",
   "execution_count": null,
   "metadata": {},
   "outputs": [],
   "source": []
  }
 ],
 "metadata": {
  "kernelspec": {
   "display_name": "Python 3",
   "language": "python",
   "name": "python3"
  },
  "language_info": {
   "codemirror_mode": {
    "name": "ipython",
    "version": 3
   },
   "file_extension": ".py",
   "mimetype": "text/x-python",
   "name": "python",
   "nbconvert_exporter": "python",
   "pygments_lexer": "ipython3",
   "version": "3.7.3"
  }
 },
 "nbformat": 4,
 "nbformat_minor": 2
}
